{
 "cells": [
  {
   "cell_type": "markdown",
   "source": [
    "# cuDF sandbox"
   ],
   "metadata": {}
  },
  {
   "cell_type": "markdown",
   "source": [],
   "metadata": {}
  },
  {
   "cell_type": "code",
   "execution_count": 1,
   "source": [
    "import cudf\n",
    "import dask_cudf\n",
    "import nvtabular as nvt"
   ],
   "outputs": [],
   "metadata": {}
  },
  {
   "cell_type": "code",
   "execution_count": 2,
   "source": [
    "filepath = '/home/jupyter/criteo_parquet/day_1.parquet'\n",
    "\n",
    "num_rows, num_row_groups, names = cudf.io.read_parquet_metadata(filepath)\n",
    "\n",
    "print('Num rows:', num_rows)\n",
    "print('Num row groups: ', num_row_groups)\n",
    "print('Names: ', names)"
   ],
   "outputs": [
    {
     "output_type": "stream",
     "name": "stdout",
     "text": [
      "Num rows: 199563535\n",
      "Num row groups:  225\n",
      "Names:  ['label', 'I1', 'I2', 'I3', 'I4', 'I5', 'I6', 'I7', 'I8', 'I9', 'I10', 'I11', 'I12', 'I13', 'C1', 'C2', 'C3', 'C4', 'C5', 'C6', 'C7', 'C8', 'C9', 'C10', 'C11', 'C12', 'C13', 'C14', 'C15', 'C16', 'C17', 'C18', 'C19', 'C20', 'C21', 'C22', 'C23', 'C24', 'C25', 'C26']\n"
     ]
    }
   ],
   "metadata": {}
  },
  {
   "cell_type": "code",
   "execution_count": null,
   "source": [
    "filepath = '/home/jupyter/criteo_parquet/day_1.parquet'\n",
    "\n",
    "row_groups = list(range(50))\n",
    "df = cudf.io.read_parquet(filepath, row_groups=row_groups)"
   ],
   "outputs": [],
   "metadata": {}
  },
  {
   "cell_type": "code",
   "execution_count": null,
   "source": [
    "filepath = '/home/jupyter/criteo_parquet/day_1.parquet'\n",
    "\n",
    "row_groups = [3,4]\n",
    "df = cudf.io.read_parquet(filepath, row_groups=row_groups)\n"
   ],
   "outputs": [],
   "metadata": {}
  },
  {
   "cell_type": "code",
   "execution_count": null,
   "source": [
    "filepath = '/home/jupyter/criteo_parquet/day_1.parquet'\n",
    "\n",
    "row_groups = [217,218]\n",
    "df = cudf.io.read_parquet(filepath, row_groups=row_groups)\n"
   ],
   "outputs": [],
   "metadata": {}
  },
  {
   "cell_type": "code",
   "execution_count": null,
   "source": [
    "filepath = 'gs://workshop-datasets/criteo-parque/day_1.parquet'\n",
    "\n",
    "row_groups = [1,2]\n",
    "row_groups = range(80)\n",
    "df = cudf.io.read_parquet(filepath, row_groups=row_groups)"
   ],
   "outputs": [],
   "metadata": {}
  },
  {
   "cell_type": "code",
   "execution_count": null,
   "source": [
    "filepath = 'gs://workshop-datasets/criteo-parque/day_1.parquet'\n",
    "\n",
    "row_groups = [218,219]\n",
    "df = cudf.io.read_parquet(filepath, row_groups=row_groups)"
   ],
   "outputs": [],
   "metadata": {}
  },
  {
   "cell_type": "code",
   "execution_count": null,
   "source": [
    "def _memory_usage(df):\n",
    "    \"\"\"Return the total memory usage of a DataFrame\"\"\"\n",
    "    return df.memory_usage(deep=True).sum()"
   ],
   "outputs": [],
   "metadata": {}
  },
  {
   "cell_type": "code",
   "execution_count": null,
   "source": [
    "df = cudf.io.read_parquet(filepath, row_groups=217)"
   ],
   "outputs": [],
   "metadata": {}
  },
  {
   "cell_type": "code",
   "execution_count": null,
   "source": [
    "_memory_usage(df)"
   ],
   "outputs": [],
   "metadata": {}
  },
  {
   "cell_type": "code",
   "execution_count": null,
   "source": [],
   "outputs": [],
   "metadata": {}
  },
  {
   "cell_type": "code",
   "execution_count": null,
   "source": [
    "list(range(10))"
   ],
   "outputs": [],
   "metadata": {}
  },
  {
   "cell_type": "code",
   "execution_count": null,
   "source": [
    "filepath = '/home/jupyter/criteo_parquet/day_1.parquet'\n",
    "filepath = 'gs://workshop-datasets/criteo-parque/day_1.parquet'\n",
    "\n",
    "row_groups = [217,218]\n",
    "df = cudf.io.read_parquet(filepath, row_groups=row_groups)\n"
   ],
   "outputs": [],
   "metadata": {}
  },
  {
   "cell_type": "code",
   "execution_count": null,
   "source": [
    "df.head()"
   ],
   "outputs": [],
   "metadata": {}
  },
  {
   "cell_type": "code",
   "execution_count": null,
   "source": [
    "df.C17.value_counts()"
   ],
   "outputs": [],
   "metadata": {}
  },
  {
   "cell_type": "code",
   "execution_count": null,
   "source": [
    "filepath = '/home/jupyter/criteo_parquet/day_1.parquet'\n",
    "filepath = 'gs://workshop-datasets/criteo-parque/day_1.parquet'\n",
    "\n",
    "ddf = dask_cudf.read_parquet(\n",
    "    filepath,\n",
    "    split_row_groups=20)"
   ],
   "outputs": [],
   "metadata": {}
  },
  {
   "cell_type": "code",
   "execution_count": null,
   "source": [
    "ddf"
   ],
   "outputs": [],
   "metadata": {}
  },
  {
   "cell_type": "code",
   "execution_count": null,
   "source": [
    "result = ddf.C1.value_counts()"
   ],
   "outputs": [],
   "metadata": {}
  },
  {
   "cell_type": "code",
   "execution_count": null,
   "source": [],
   "outputs": [],
   "metadata": {}
  },
  {
   "cell_type": "code",
   "execution_count": null,
   "source": [
    "result.compute()"
   ],
   "outputs": [],
   "metadata": {}
  },
  {
   "cell_type": "code",
   "execution_count": null,
   "source": [
    "output_path = '/home/jupyter/output_path'\n",
    "\n",
    "ddf.to_parquet(output_path)"
   ],
   "outputs": [],
   "metadata": {}
  },
  {
   "cell_type": "code",
   "execution_count": null,
   "source": [],
   "outputs": [],
   "metadata": {}
  }
 ],
 "metadata": {
  "orig_nbformat": 4,
  "language_info": {
   "name": "python",
   "version": "3.7.10",
   "mimetype": "text/x-python",
   "codemirror_mode": {
    "name": "ipython",
    "version": 3
   },
   "pygments_lexer": "ipython3",
   "nbconvert_exporter": "python",
   "file_extension": ".py"
  },
  "kernelspec": {
   "name": "python3",
   "display_name": "Python 3.7.10 64-bit ('base': conda)"
  },
  "interpreter": {
   "hash": "98b0a9b7b4eaaa670588a142fd0a9b87eaafe866f1db4228be72b4211d12040f"
  }
 },
 "nbformat": 4,
 "nbformat_minor": 2
}